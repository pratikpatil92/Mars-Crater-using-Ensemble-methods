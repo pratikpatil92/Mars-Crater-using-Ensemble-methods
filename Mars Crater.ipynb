{
 "cells": [
  {
   "cell_type": "code",
   "execution_count": 2,
   "metadata": {},
   "outputs": [
    {
     "name": "stdout",
     "output_type": "stream",
     "text": [
      "   Unnamed: 0      attr0     attr1      attr2      attr3      attr4  \\\n",
      "0           0  -4.049514 -5.055907   4.813832  10.975995  10.599993   \n",
      "1           1   3.514292  4.721218  -2.536391  -8.388817 -10.787064   \n",
      "2           2 -11.318180  9.405884  29.141795  21.277405  -5.122294   \n",
      "3           3  -7.143218 -9.869755  -7.905797   4.271652  22.890720   \n",
      "4           4  -5.027305  5.600857  10.312207   3.855865  -1.988057   \n",
      "\n",
      "       attr5      attr6     attr7      attr8  ...   attr1080   attr1081  \\\n",
      "0   8.103339   7.260105  3.984216  -3.352366  ...  39.055706  39.480231   \n",
      "1  -9.024258  -5.473323  7.646837  15.297336  ...  34.934308  34.224270   \n",
      "2 -21.736671 -12.850864  3.134460   7.207608  ...  86.905997  78.811334   \n",
      "3  28.454973  12.167586 -2.024773  -2.093635  ...  65.272842  63.522759   \n",
      "4   4.749132   9.700589  1.991069  -2.491197  ...  80.313460  77.703464   \n",
      "\n",
      "    attr1082    attr1083    attr1084    attr1085    attr1086    attr1087  \\\n",
      "0  48.177327   49.460693   50.797614   50.680413   44.778675   36.101397   \n",
      "1  42.633077   46.226847   49.730228   49.624121   45.398516   39.585452   \n",
      "2  84.165826   86.976997  116.149402  107.729029   96.534329   80.428859   \n",
      "3  67.886176   67.388943   93.066755   91.394297   70.704254   63.252282   \n",
      "4  93.575195  104.748562  129.462818  124.996294  118.110321  108.709732   \n",
      "\n",
      "     attr1088  attr1089  \n",
      "0   44.447948         0  \n",
      "1   45.971939         0  \n",
      "2  114.810516         0  \n",
      "3   82.057148         0  \n",
      "4  139.685624         0  \n",
      "\n",
      "[5 rows x 1091 columns]\n",
      "0.4646647584547681\n"
     ]
    }
   ],
   "source": [
    "import warnings\n",
    "warnings.filterwarnings('ignore')\n",
    "\n",
    "from sklearn.model_selection import train_test_split\n",
    "from sklearn.preprocessing import MinMaxScaler\n",
    "import pandas as pd\n",
    "\n",
    "# Code starts here\n",
    "# Read the data\n",
    "path = 'C:/Users/Pratik/Desktop/my codes/ensembles methods/file.zip'\n",
    "df = pd.read_csv(filepath_or_buffer=path,compression='zip')\n",
    "print(df.head())\n",
    "\n",
    "# Dependent variable\n",
    "y = df['attr1089']\n",
    "\n",
    "# Independent variable\n",
    "X = df.drop(columns=['attr1089'])\n",
    "\n",
    "# Split the data\n",
    "X_train,X_test,y_train,y_test = train_test_split(X,y,test_size=0.3,random_state=4)\n",
    "\n",
    "# Standardize the data\n",
    "scaler = MinMaxScaler()\n",
    "scaler.fit(X_train)\n",
    "X_train = scaler.transform(X_train)\n",
    "X_test = scaler.transform(X_test)\n",
    "\n",
    "print(X_test[45,5])"
   ]
  },
  {
   "cell_type": "code",
   "execution_count": 4,
   "metadata": {},
   "outputs": [
    {
     "name": "stdout",
     "output_type": "stream",
     "text": [
      "0.8342246471347936\n"
     ]
    }
   ],
   "source": [
    "# Import libraries\n",
    "from sklearn.metrics import classification_report\n",
    "from sklearn.linear_model import LogisticRegression\n",
    "from sklearn.metrics import roc_auc_score\n",
    "\n",
    "# Initialize the logistic regression\n",
    "lr = LogisticRegression()\n",
    "\n",
    "# Fit the model \n",
    "lr.fit(X_train,y_train)\n",
    "\n",
    "# Store the predicted values of test data\n",
    "y_pred = lr.predict(X_test)\n",
    "\n",
    "# roc score\n",
    "roc_score = roc_auc_score(y_pred,y_test)\n",
    "print(roc_score)"
   ]
  },
  {
   "cell_type": "code",
   "execution_count": 7,
   "metadata": {},
   "outputs": [
    {
     "name": "stdout",
     "output_type": "stream",
     "text": [
      "0.8733078817673466\n"
     ]
    }
   ],
   "source": [
    "#Task 3 - Decision Tree\n",
    "from sklearn.tree import DecisionTreeClassifier\n",
    "dt = DecisionTreeClassifier(random_state=4)\n",
    "dt.fit(X_train,y_train)\n",
    "y_pred = dt.predict(X_test)\n",
    "roc_score = roc_auc_score(y_pred,y_test)\n",
    "print(roc_score)\n"
   ]
  },
  {
   "cell_type": "code",
   "execution_count": 8,
   "metadata": {},
   "outputs": [
    {
     "name": "stdout",
     "output_type": "stream",
     "text": [
      "0.9072441404074357\n"
     ]
    }
   ],
   "source": [
    "from sklearn.ensemble import RandomForestClassifier\n",
    "\n",
    "\n",
    "# Code strats here\n",
    "rfc = RandomForestClassifier(random_state=4)\n",
    "rfc.fit(X_train,y_train)\n",
    "y_pred = rfc.predict(X_test)\n",
    "roc_score = roc_auc_score(y_pred,y_test)\n",
    "print(roc_score)\n",
    "\n",
    "\n",
    "# Code ends here"
   ]
  },
  {
   "cell_type": "code",
   "execution_count": 10,
   "metadata": {},
   "outputs": [
    {
     "name": "stdout",
     "output_type": "stream",
     "text": [
      "0.832579185520362\n"
     ]
    }
   ],
   "source": [
    "# Import Bagging Classifier\n",
    "from sklearn.ensemble import BaggingClassifier\n",
    "\n",
    "\n",
    "# Code starts here\n",
    "bagging_clf = BaggingClassifier(DecisionTreeClassifier(),n_estimators=100 , max_samples=100 ,random_state=0)\n",
    "bagging_clf.fit(X_train,y_train)\n",
    "score_bagging = bagging_clf.score(X_test,y_test)\n",
    "print(score_bagging)\n",
    "# Code ends here"
   ]
  },
  {
   "cell_type": "code",
   "execution_count": 11,
   "metadata": {},
   "outputs": [],
   "source": [
    "# Import libraries\n",
    "from sklearn.ensemble import VotingClassifier\n",
    "\n",
    "# Various models\n",
    "clf_1 = LogisticRegression()\n",
    "clf_2 = DecisionTreeClassifier(random_state=4)\n",
    "clf_3 = RandomForestClassifier(random_state=4)\n",
    "\n",
    "model_list = [('lr',clf_1),('DT',clf_2),('RF',clf_3)]\n",
    "\n",
    "# Code starts here\n",
    "# Initialize voting classifier\n",
    "voting_clf_hard = VotingClassifier(estimators=model_list,voting='hard')\n",
    "\n",
    "# Fit the model on training data\n",
    "voting_clf_hard.fit(X_train,y_train)\n",
    "\n",
    "# accuracy\n",
    "hard_voting_score = voting_clf_hard.score(X_test,y_test)"
   ]
  },
  {
   "cell_type": "code",
   "execution_count": null,
   "metadata": {},
   "outputs": [],
   "source": []
  }
 ],
 "metadata": {
  "kernelspec": {
   "display_name": "Python 3",
   "language": "python",
   "name": "python3"
  },
  "language_info": {
   "codemirror_mode": {
    "name": "ipython",
    "version": 3
   },
   "file_extension": ".py",
   "mimetype": "text/x-python",
   "name": "python",
   "nbconvert_exporter": "python",
   "pygments_lexer": "ipython3",
   "version": "3.6.8"
  }
 },
 "nbformat": 4,
 "nbformat_minor": 2
}
